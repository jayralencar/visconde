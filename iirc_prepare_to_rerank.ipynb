{
 "cells": [
  {
   "cell_type": "code",
   "execution_count": 2,
   "metadata": {},
   "outputs": [],
   "source": [
    "from pyserini.search import SimpleSearcher\n",
    "import json\n",
    "from iirc_query_decomposition import decompose\n",
    "\n",
    "searcher = SimpleSearcher('./data/iirc_index')"
   ]
  },
  {
   "cell_type": "code",
   "execution_count": 4,
   "metadata": {},
   "outputs": [],
   "source": [
    "test_set = json.load(open(\"./data/iirc_test.json\",'r'))"
   ]
  },
  {
   "cell_type": "code",
   "execution_count": 7,
   "metadata": {},
   "outputs": [],
   "source": [
    "all_q = []\n",
    "\n",
    "for item in test_set:\n",
    "    for q in item['questions']:\n",
    "        q['text'] = item['text']\n",
    "        q['title'] = item['title']\n",
    "        q['links'] = item['links']\n",
    "        all_q.append(q)"
   ]
  },
  {
   "cell_type": "code",
   "execution_count": 10,
   "metadata": {},
   "outputs": [
    {
     "name": "stderr",
     "output_type": "stream",
     "text": [
      "100%|██████████| 2/2 [00:04<00:00,  2.10s/it]\n"
     ]
    }
   ],
   "source": [
    "import json\n",
    "import numpy as np\n",
    "from tqdm import tqdm\n",
    "\n",
    "ONLY_LINKS = True\n",
    "limit_by_query= 1000\n",
    "new_test = []\n",
    "\n",
    "for q in tqdm(all_q):\n",
    "    decomposition = decompose(q['question'])\n",
    "    q['decomposition'] = decomposition\n",
    "    titles = [l['target'].lower() for l in q['links']] + [q['title'].lower()]\n",
    "    decs = []\n",
    "    \n",
    "    for d in decomposition:\n",
    "        hits = searcher.search(d,k=limit_by_query)\n",
    "        chosen = []\n",
    "        for hit in hits:\n",
    "            hit = json.loads(hit.raw)\n",
    "            if ONLY_LINKS:\n",
    "                if hit['title'].lower() in titles:\n",
    "                    chosen.append(hit)\n",
    "            else:\n",
    "                chosen.append(hit)\n",
    "        decs.append({\n",
    "            \"question\": d,\n",
    "            \"documents\": chosen\n",
    "        })\n",
    "    q['decomposition'] = decs\n",
    "\n",
    "    new_test.append(q)\n"
   ]
  },
  {
   "cell_type": "code",
   "execution_count": 11,
   "metadata": {},
   "outputs": [],
   "source": [
    "json.dump(new_test, open(\"data/to_rerank.json\",'w'))"
   ]
  }
 ],
 "metadata": {
  "interpreter": {
   "hash": "31f2aee4e71d21fbe5cf8b01ff0e069b9275f58929596ceb00d14d90e3e16cd6"
  },
  "kernelspec": {
   "display_name": "Python 3.8.10 64-bit",
   "language": "python",
   "name": "python3"
  },
  "language_info": {
   "codemirror_mode": {
    "name": "ipython",
    "version": 3
   },
   "file_extension": ".py",
   "mimetype": "text/x-python",
   "name": "python",
   "nbconvert_exporter": "python",
   "pygments_lexer": "ipython3",
   "version": "3.8.10"
  },
  "orig_nbformat": 4
 },
 "nbformat": 4,
 "nbformat_minor": 2
}
