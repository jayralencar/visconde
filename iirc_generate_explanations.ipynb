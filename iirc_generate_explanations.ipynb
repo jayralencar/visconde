{
 "cells": [
  {
   "cell_type": "markdown",
   "metadata": {},
   "source": [
    "# Generate explanations to IIRC train examples to use it in the dynamic few-shot prompt"
   ]
  },
  {
   "cell_type": "code",
   "execution_count": 5,
   "metadata": {},
   "outputs": [
    {
     "data": {
      "text/plain": [
       "10839"
      ]
     },
     "execution_count": 5,
     "metadata": {},
     "output_type": "execute_result"
    }
   ],
   "source": [
    "import json\n",
    "\n",
    "dev = json.load(open(\"./data/iirc_train_dev/train.json\"))\n",
    "all_q = []\n",
    "\n",
    "for item in dev:\n",
    "    for q in item['questions']:\n",
    "        q['title'] = item['title']\n",
    "        all_q.append(q)\n",
    "len(all_q)"
   ]
  },
  {
   "cell_type": "markdown",
   "metadata": {},
   "source": [
    "##"
   ]
  },
  {
   "cell_type": "code",
   "execution_count": 3,
   "metadata": {},
   "outputs": [],
   "source": [
    "    from pyserini.search import SimpleSearcher\n",
    "    import json\n",
    "\n",
    "    searcher = SimpleSearcher('./data/iirc_index')"
   ]
  },
  {
   "cell_type": "code",
   "execution_count": 4,
   "metadata": {},
   "outputs": [],
   "source": [
    "import os\n",
    "import openai\n",
    "\n",
    "openai.api_key = os.getenv(\"OPENAI_API_KEY\")\n",
    "\n",
    "def generate(prompt):\n",
    "\n",
    "    response = openai.Completion.create(\n",
    "        engine=\"text-davinci-002\",\n",
    "        prompt=prompt,\n",
    "        temperature=0.0,\n",
    "        max_tokens=1024,\n",
    "        top_p=1,\n",
    "        frequency_penalty=0,\n",
    "        presence_penalty=0\n",
    "    )\n",
    "\n",
    "    return response[\"choices\"][0]['text']"
   ]
  },
  {
   "cell_type": "code",
   "execution_count": 6,
   "metadata": {},
   "outputs": [
    {
     "name": "stderr",
     "output_type": "stream",
     "text": [
      "100%|██████████| 1/1 [00:03<00:00,  3.06s/it]\n"
     ]
    }
   ],
   "source": [
    "from tqdm import tqdm\n",
    "import json\n",
    "import random\n",
    "import copy\n",
    "\n",
    "all_tokens = []\n",
    "\n",
    "limit = 1\n",
    "\n",
    "for q in tqdm(all_q[:limit]):\n",
    "    prompt=\"For each example, write a explanation to the answer given the documents and the question. It is important that you cite all the relevant documents.\\n\\nExample 1:\\n\\n[Document 1]: \\\"San Tropez\\\" is the fourth track from the album Meddle by the band Pink Floyd. This song was one of several to be considered for the band's \\\"best of\\\" album, Echoes: The Best of Pink Floyd.\\n    \\n[Document 2]: The French Riviera (known in French as the Côte d'Azur [kot daˈzyʁ]; Occitan: Còsta d'Azur [ˈkɔstɔ daˈzyɾ]; literal translation \\\"Azure Coast\\\") is the Mediterranean coastline of the southeast corner of France. There is no official boundary, but it is usually considered to extend from Cassis, Toulon or Saint-Tropez on the west to Menton at the France–Italy border in the east, where the Italian Riviera joins. The coast is entirely within the Provence-Alpes-Côte d'Azur (Région Sud) region of France. The Principality of Monaco is a semi-enclave within the region, surrounded on three sides by France and fronting the Mediterranean.\\n    \\n[Document 3]: Moon also promised transparency in his presidency, moving the presidential residence from the palatial and isolated Blue House to an existing government complex in downtown Seoul.\\n\\n[Document 4]: Saint-Tropez (US: /ˌsæn troʊˈpeɪ/ SAN-troh-PAY, French: [sɛ̃ tʁɔpe]; Occitan: Sant-Tropetz , pronounced [san(t) tʀuˈpes]) is a town on the French Riviera, 68 kilometres (42 miles) west of Nice and 100 kilometres (62 miles) east of Marseille in the Var department of the Provence-Alpes-Côte d'Azur region of Occitania, Southern France.\\n\\nQuestion: Did Pink Floyd have a song about the French Riviera?\\n\\nAnswer: yes.\\n\\nExplanation: \\\"San Tropez\\\" is a song by Pink Floyd about the French Riviera [Document 1]. Saint-Tropez is a town on the French Riviera [Document 4].\\n\\nExample 2:\\n\\n\"\n",
    "    \n",
    "    contexts = copy.copy(q['context'])\n",
    "    \n",
    "    k_hits = random.randint(0,3) # insert noise in the dataset\n",
    "\n",
    "    if k_hits > 0 :\n",
    "        hits = searcher.search(q['question'],k=k_hits)\n",
    "\n",
    "        for hit in hits:\n",
    "            hit = json.loads(hit.raw)\n",
    "            contexts.append({\n",
    "                \"passage\": hit['title'],\n",
    "                \"text\": hit['segment']\n",
    "            })\n",
    "\n",
    "        q['unrelevant'] = contexts[-k_hits:]\n",
    "        \n",
    "        random.shuffle(contexts)\n",
    "    \n",
    "    q[\"contexts\"] = contexts\n",
    "\n",
    "    for i, c in enumerate(contexts):\n",
    "        if c['passage'] == 'main':\n",
    "            text = \"Title: {0}. Content: {1}\".format(q['title'], \" \".join(c['text'].splitlines()))\n",
    "        else:\n",
    "            text = \"Title: {0}. Content: {1}\".format(c['passage'], \" \".join(c['text'].splitlines()))\n",
    "        prompt += \"[Document {0}]: {1}\\n\\n\".format(i+1, text)\n",
    "    answer = \"\"\n",
    "    if q['answer']['type'] == \"span\":\n",
    "        answer = \", \".join([a['text'] for a in q['answer'][\"answer_spans\"]])\n",
    "    elif q['answer']['type'] == \"value\":\n",
    "        answer = \"{0} {1}\".format(q['answer']['answer_value'],q['answer']['answer_unit'])\n",
    "    elif q['answer']['type'] == \"binary\":\n",
    "        answer = q['answer']['answer_value']\n",
    "    elif q['answer']['type'] == \"none\":\n",
    "        answer = \"Not enough information provided in the documents.\"\n",
    "    prompt += \"Question: {0}\\n\\nAnswer: {1}\\n\\nExplanation:\".format(q['question'],answer)\n",
    "    \n",
    "    q['explanation'] = generate(prompt)\n",
    "json.dump(all_q, open(\"./data/explained_iirc.json\",'w'))"
   ]
  }
 ],
 "metadata": {
  "interpreter": {
   "hash": "31f2aee4e71d21fbe5cf8b01ff0e069b9275f58929596ceb00d14d90e3e16cd6"
  },
  "kernelspec": {
   "display_name": "Python 3.8.10 64-bit",
   "language": "python",
   "name": "python3"
  },
  "language_info": {
   "codemirror_mode": {
    "name": "ipython",
    "version": 3
   },
   "file_extension": ".py",
   "mimetype": "text/x-python",
   "name": "python",
   "nbconvert_exporter": "python",
   "pygments_lexer": "ipython3",
   "version": "3.8.10"
  },
  "orig_nbformat": 4
 },
 "nbformat": 4,
 "nbformat_minor": 2
}
