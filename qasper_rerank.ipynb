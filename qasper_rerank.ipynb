{
 "cells": [
  {
   "cell_type": "code",
   "execution_count": 1,
   "metadata": {},
   "outputs": [],
   "source": [
    "import json\n",
    "\n",
    "qasper = json.load(open(\"./data/qasper-test-v0.3.json\",'r'))"
   ]
  },
  {
   "cell_type": "code",
   "execution_count": null,
   "metadata": {},
   "outputs": [],
   "source": [
    "from transformers import AutoTokenizer\n",
    "from transformers import T5ForConditionalGeneration\n",
    "\n",
    "import torch\n",
    "\n",
    "# model = T5ForConditionalGeneration.from_pretrained(\"castorini/monot5-3b-msmarco-10k\", torch_dtype=torch.float16) #t5 3b\n",
    "model = T5ForConditionalGeneration.from_pretrained('castorini/monot5-base-msmarco-10k')\n",
    "\n",
    "tokenizer = AutoTokenizer.from_pretrained(\"t5-3b\")\n",
    "\n",
    "device = torch.device(\"cuda\")\n",
    "model.to(device)"
   ]
  },
  {
   "cell_type": "code",
   "execution_count": null,
   "metadata": {},
   "outputs": [],
   "source": [
    "from pygaggle.rerank.base import Query, Text\n",
    "from pygaggle.rerank.transformer import MonoT5\n",
    "\n",
    "reranker = MonoT5(model=model)"
   ]
  },
  {
   "cell_type": "code",
   "execution_count": null,
   "metadata": {},
   "outputs": [],
   "source": [
    "from tqdm import tqdm\n",
    "import uuid\n",
    "\n",
    "c = 1\n",
    "qas = []\n",
    "for k in qasper:\n",
    "    print(\"\\n{0} of {1}\\n\".format(c, len(qasper.keys())))\n",
    "    item = qasper[k]\n",
    "    paragraphs =  [p  for section in item['full_text'] for p in  section[\"paragraphs\"]]\n",
    "    texts = [Text(p, {'docid': i,\"title\":p}, 0) for i,p in enumerate(paragraphs)]\n",
    "    for qa in tqdm(item['qas']):\n",
    "        query = Query(qa['question'])\n",
    "        reranked = reranker.rerank(query, texts)\n",
    "        reranked.sort(key=lambda x: x.score, reverse=True)\n",
    "        if  \"answers\" in qa:\n",
    "            del qa['answers']\n",
    "        qa['documents'] = [t.metadata for t in reranked]\n",
    "        qas.append(qa)\n",
    "    c += 1"
   ]
  },
  {
   "cell_type": "code",
   "execution_count": null,
   "metadata": {},
   "outputs": [],
   "source": [
    "json.dump(qas, open(\"qasper_reranked_section_title.json\",\"w\"))"
   ]
  }
 ],
 "metadata": {
  "interpreter": {
   "hash": "31f2aee4e71d21fbe5cf8b01ff0e069b9275f58929596ceb00d14d90e3e16cd6"
  },
  "kernelspec": {
   "display_name": "Python 3.8.10 64-bit",
   "language": "python",
   "name": "python3"
  },
  "language_info": {
   "codemirror_mode": {
    "name": "ipython",
    "version": 3
   },
   "file_extension": ".py",
   "mimetype": "text/x-python",
   "name": "python",
   "nbconvert_exporter": "python",
   "pygments_lexer": "ipython3",
   "version": "3.8.10"
  },
  "orig_nbformat": 4
 },
 "nbformat": 4,
 "nbformat_minor": 2
}
