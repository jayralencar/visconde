{
 "cells": [
  {
   "cell_type": "code",
   "execution_count": null,
   "metadata": {},
   "outputs": [],
   "source": [
    "from transformers import AutoTokenizer\n",
    "from transformers import T5ForConditionalGeneration\n",
    "\n",
    "import torch\n",
    "\n",
    "model = T5ForConditionalGeneration.from_pretrained(\"castorini/monot5-3b-msmarco-10k\", torch_dtype=torch.float16)\n",
    "\n",
    "tokenizer = AutoTokenizer.from_pretrained(\"t5-3b\")\n",
    "\n",
    "device = torch.device(\"cuda\")\n",
    "model.to(device)"
   ]
  },
  {
   "cell_type": "code",
   "execution_count": null,
   "metadata": {},
   "outputs": [],
   "source": [
    "from pygaggle.rerank.base import Query, Text\n",
    "from pygaggle.rerank.transformer import MonoT5\n",
    "\n",
    "reranker = MonoT5(model=model)"
   ]
  },
  {
   "cell_type": "code",
   "execution_count": null,
   "metadata": {},
   "outputs": [],
   "source": [
    "import json\n",
    "\n",
    "test_set = json.load(open(\"./data/iirc_to_rerank.json\",'r'))"
   ]
  },
  {
   "cell_type": "code",
   "execution_count": null,
   "metadata": {},
   "outputs": [],
   "source": [
    "from tqdm import tqdm\n",
    "\n",
    "results = []\n",
    "\n",
    "for item in tqdm(test_set):\n",
    "  chosen = []\n",
    "  for d in item['decomposition']:\n",
    "    query = Query(d['question'])\n",
    "    texts = [Text(p['contents'], {'docid': p['id'],\"title\":p['title'],\"text\":p['contents']}, 0) for p in d['documents']]\n",
    "    reranked = reranker.rerank(query, texts)\n",
    "    reranked.sort(key=lambda x: x.score, reverse=True)\n",
    "    d['documents'] = [text.metadata for text in reranked]\n",
    "  results.append(item)"
   ]
  },
  {
   "cell_type": "code",
   "execution_count": null,
   "metadata": {},
   "outputs": [],
   "source": [
    "json.dump(results, open(\"iirc_reranked.json\",'w'))"
   ]
  }
 ],
 "metadata": {
  "language_info": {
   "name": "python"
  },
  "orig_nbformat": 4
 },
 "nbformat": 4,
 "nbformat_minor": 2
}
