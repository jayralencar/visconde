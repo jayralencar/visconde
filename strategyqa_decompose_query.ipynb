{
 "cells": [
  {
   "cell_type": "code",
   "execution_count": 10,
   "metadata": {},
   "outputs": [],
   "source": [
    "import os\n",
    "import openai\n",
    "\n",
    "openai.api_key = os.getenv(\"OPENAI_API_KEY\")\n",
    "\n",
    "def generate(prompt,max_tokens=250, temperature=0):\n",
    "    response = openai.Completion.create(\n",
    "        engine=\"text-davinci-002\",\n",
    "        prompt=prompt,\n",
    "        temperature=temperature,\n",
    "        max_tokens=max_tokens,\n",
    "        top_p=1,\n",
    "        frequency_penalty=0,\n",
    "        presence_penalty=0\n",
    "    )\n",
    "\n",
    "    return response[\"choices\"][0]['text']"
   ]
  },
  {
   "cell_type": "code",
   "execution_count": 11,
   "metadata": {},
   "outputs": [],
   "source": [
    "from transformers import GPT2Tokenizer\n",
    "\n",
    "tokenizer = GPT2Tokenizer.from_pretrained('gpt2')"
   ]
  },
  {
   "cell_type": "code",
   "execution_count": 22,
   "metadata": {},
   "outputs": [
    {
     "data": {
      "text/plain": [
       "['Who founded the Scottish Parliament?',\n",
       " 'When was the Scottish Parliament founded?']"
      ]
     },
     "execution_count": 22,
     "metadata": {},
     "output_type": "execute_result"
    }
   ],
   "source": [
    "def decompose(question):\n",
    "    prompt=\"Decompose a question in self-contained sub-questions. Use \\\"The question needs no decomposition\\\" when no decomposition is needed.\\n\\nExample 1:\\n\\nQuestion: Is Hamlet more common on IMDB than Comedy of Errors?\\n\\nDecompositions: \\n1: How many listings of Hamlet are there on IMDB?\\n2: How many listing of Comedy of Errors is there on IMDB?\\n\\nExample 2:\\n\\nQuestion: Are birds important to badminton?\\n\\nDecompositions:\\nThe question needs no decomposition\\n\\nExample 3:\\n\\nQuestion: Is it legal for a licensed child driving Mercedes-Benz to be employed in US?\\n\\nDecompositions:\\n1: What is the minimum driving age in the US?\\n2: What is the minimum age for someone to be employed in the US?\\n\\nExample 4:\\n\\nQuestion: Are all cucumbers the same texture?\\n\\nDecompositions:\\nThe question needs no decomposition\\n\\nExample 5:\\n\\nQuestion: Hydrogen's atomic number squared exceeds number of Spice Girls?\\n\\nDecompositions:\\n1: What is the atomic number of hydrogen?\\n2: How many Spice Girls are there?\\n\\nExample 6:\\n\\nQuestion: {0}\\n\\nDecompositions:\"\n",
    "\n",
    "    res = generate(prompt.format(question))\n",
    "    if res.lower().strip() == \"the question needs no decomposition.\":\n",
    "        return [question]\n",
    "    try:\n",
    "        questions = [l for l in res.splitlines() if l != \"\"]\n",
    "        questions = [q.split(':')[1].strip() for q in questions]\n",
    "        return questions\n",
    "    except:\n",
    "        return [question]"
   ]
  },
  {
   "cell_type": "code",
   "execution_count": 23,
   "metadata": {},
   "outputs": [
    {
     "data": {
      "text/plain": [
       "490"
      ]
     },
     "execution_count": 23,
     "metadata": {},
     "output_type": "execute_result"
    }
   ],
   "source": [
    "import json\n",
    "\n",
    "dev = json.load(open(\"data/strategyqa_test.json\",\"r\"))\n",
    "len(dev)"
   ]
  },
  {
   "cell_type": "code",
   "execution_count": 15,
   "metadata": {},
   "outputs": [
    {
     "data": {
      "text/plain": [
       "10.034159999999998"
      ]
     },
     "execution_count": 15,
     "metadata": {},
     "output_type": "execute_result"
    }
   ],
   "source": [
    "import numpy as np\n",
    "\n",
    "lens = []\n",
    "for item in dev:\n",
    "    lens.append(decompose(item['question']))\n",
    "(np.sum(lens)/1000)*0.06"
   ]
  },
  {
   "cell_type": "code",
   "execution_count": 9,
   "metadata": {},
   "outputs": [],
   "source": [
    "import json\n",
    "\n",
    "dev = json.load(open(\"data/my_dev.json\",\"r\"))"
   ]
  },
  {
   "cell_type": "code",
   "execution_count": 24,
   "metadata": {},
   "outputs": [
    {
     "name": "stderr",
     "output_type": "stream",
     "text": [
      "100%|██████████| 490/490 [11:48<00:00,  1.45s/it]\n"
     ]
    }
   ],
   "source": [
    "from tqdm import tqdm\n",
    "for item in tqdm(dev):\n",
    "    if \"decompositions\" not in item:\n",
    "        item['decompositions'] = decompose(item['question'])"
   ]
  },
  {
   "cell_type": "code",
   "execution_count": 25,
   "metadata": {},
   "outputs": [],
   "source": [
    "json.dump(dev,open(\"data/decomposed_test.json\",\"w\"))"
   ]
  }
 ],
 "metadata": {
  "interpreter": {
   "hash": "31f2aee4e71d21fbe5cf8b01ff0e069b9275f58929596ceb00d14d90e3e16cd6"
  },
  "kernelspec": {
   "display_name": "Python 3.8.10 64-bit",
   "language": "python",
   "name": "python3"
  },
  "language_info": {
   "codemirror_mode": {
    "name": "ipython",
    "version": 3
   },
   "file_extension": ".py",
   "mimetype": "text/x-python",
   "name": "python",
   "nbconvert_exporter": "python",
   "pygments_lexer": "ipython3",
   "version": "3.8.10"
  },
  "orig_nbformat": 4
 },
 "nbformat": 4,
 "nbformat_minor": 2
}
